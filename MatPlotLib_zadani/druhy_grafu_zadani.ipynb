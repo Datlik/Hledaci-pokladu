{
  "cells": [
    {
      "cell_type": "markdown",
      "metadata": {
        "id": "view-in-github",
        "colab_type": "text"
      },
      "source": [
        "<a href=\"https://colab.research.google.com/github/Datlik/Hledaci-pokladu/blob/main/MatPlotLib_zadani/druhy_grafu_zadani.ipynb\" target=\"_parent\"><img src=\"https://colab.research.google.com/assets/colab-badge.svg\" alt=\"Open In Colab\"/></a>"
      ]
    },
    {
      "cell_type": "markdown",
      "metadata": {
        "id": "b3Wsj7qAxnX2"
      },
      "source": [
        "Ne vždy se nám hodí použít grafy typu `plot()` nebo `scatter()`. Někdy je vhodné použít jiný typ grafu. Proto k knihovně mathPlotLib existuje více typů grafů. Některé z nich si ukážeme v následujících příkladech."
      ]
    },
    {
      "cell_type": "code",
      "execution_count": null,
      "metadata": {
        "id": "IVm1FKqaxnX5"
      },
      "outputs": [],
      "source": [
        "! pip install matplotlib"
      ]
    },
    {
      "cell_type": "code",
      "execution_count": null,
      "metadata": {
        "id": "i40lkVXqxnX6"
      },
      "outputs": [],
      "source": [
        "import matplotlib.pyplot as plt\n",
        "import numpy as np"
      ]
    },
    {
      "cell_type": "markdown",
      "metadata": {
        "id": "PP6oPfi0xnX6"
      },
      "source": [
        "# Sloupce\n",
        "## Verikální sloupce\n",
        "Vertikální sloupce se vykreslí pomocí funkce `bar()`. Funkce má dva parametry. Prvním parametrem je seznam hodnot, které se mají vykreslit na ose y. Druhým parametrem je seznam hodnot, které se mají vykreslit na ose x."
      ]
    },
    {
      "cell_type": "code",
      "execution_count": null,
      "metadata": {
        "id": "qQXU7BiCxnX7"
      },
      "outputs": [],
      "source": [
        "x = np.array([\"A\", \"B\", \"C\", \"D\"])\n",
        "y = np.array([3, 8, 1, 10])\n",
        "# délky polí musí být stejné\n",
        "\n",
        "plt.bar(x,y)\n",
        "plt.show()"
      ]
    },
    {
      "cell_type": "code",
      "execution_count": null,
      "metadata": {
        "id": "1zFgWb-OxnX7"
      },
      "outputs": [],
      "source": [
        "x = [\"JABLKA\", \"BANÁNY\"]\n",
        "y = [400, 350]\n",
        "\n",
        "\n",
        "plt.bar(x, y)\n",
        "plt.show()"
      ]
    },
    {
      "cell_type": "markdown",
      "metadata": {
        "id": "iykyc-TNxnX7"
      },
      "source": [
        "## Horizontální sloupce\n",
        "Horizontální sloupce se vykreslí pomocí funkce `barh()`. Funkce `barh()` bere 2 argumenty, které definují rozložení grafu, obdobně jako u funkce `bar()`."
      ]
    },
    {
      "cell_type": "code",
      "execution_count": null,
      "metadata": {
        "id": "Zq8_8yHQxnX7"
      },
      "outputs": [],
      "source": [
        "x = np.array([\"A\", \"B\", \"C\", \"D\"])\n",
        "y = np.array([3, 8, 1, 10])\n",
        "\n",
        "plt.barh(x, y)\n",
        "plt.show()"
      ]
    },
    {
      "cell_type": "markdown",
      "metadata": {
        "id": "Ocx2cJxAxnX8"
      },
      "source": [
        "## Barvy\n",
        "Barvy se dají měnit pomocí argumentu `c` (color). Hodnoty tohoto argumentu můžou být hexdec označení barvy, standardizovaný název barvy podle W3, nebo přednastavené označení matplotlib. Více informací o barvách najdete na [matplotlib.org](https://matplotlib.org/3.1.0/gallery/color/named_colors.html)."
      ]
    },
    {
      "cell_type": "code",
      "execution_count": null,
      "metadata": {
        "id": "T97Vo6GqxnX9"
      },
      "outputs": [],
      "source": [
        "plt.bar(x, y, color=\"red\")\n",
        "plt.show()"
      ]
    },
    {
      "cell_type": "code",
      "execution_count": null,
      "metadata": {
        "id": "fL690GzcxnX9"
      },
      "outputs": [],
      "source": [
        "plt.bar(x, y, color=\"#C8AAF4\")\n",
        "plt.show()"
      ]
    },
    {
      "cell_type": "code",
      "execution_count": null,
      "metadata": {
        "id": "ylDofRhkxnX-"
      },
      "outputs": [],
      "source": [
        "plt.bar(x, y, color=\"g\")\n",
        "plt.show()"
      ]
    },
    {
      "cell_type": "markdown",
      "metadata": {
        "id": "_bjcnWndxnX-"
      },
      "source": [
        "## Šírka sloupců\n",
        "Můžeme nastavovat i samostatnou šířku sloupce pomocí argumentu width. Šířka se upravuje pomocí argumetu `width`. Základní hodnota je 0.8."
      ]
    },
    {
      "cell_type": "code",
      "execution_count": null,
      "metadata": {
        "id": "lyhr6IKMxnX_"
      },
      "outputs": [],
      "source": [
        "plt.bar(x, y, width = 0.1)\n",
        "plt.show()"
      ]
    },
    {
      "cell_type": "markdown",
      "metadata": {
        "id": "rPFsztB_xnX_"
      },
      "source": [
        "Pro horizonální hrafy se používá argument `height` místo `width`."
      ]
    },
    {
      "cell_type": "code",
      "execution_count": null,
      "metadata": {
        "id": "LvekpxEOxnX_"
      },
      "outputs": [],
      "source": [
        "plt.barh(x, y, height=0.1)\n",
        "plt.show()"
      ]
    },
    {
      "cell_type": "markdown",
      "metadata": {
        "id": "shf9zncfxnX_"
      },
      "source": [
        "# Histrogram\n",
        "Histogram je graf, který zobrazuje distribuci.\n",
        "\n",
        "Je to graf, ketrý zobrazuje počet měření pro daný interval.\n",
        "\n",
        "Pro vytvoření histogramu se používá funkce `hist()`, tato funkce bere jeden argument a to pole hodnot pro které se má histogram vytvořit"
      ]
    },
    {
      "cell_type": "code",
      "execution_count": null,
      "metadata": {
        "id": "mSbfn40YxnYA"
      },
      "outputs": [],
      "source": [
        "# dejme tomu, že máme změřenou výšku 250 lidí a chceme tyto data zobrazit v histogramu\n",
        "\n",
        "# místo měření použijeme funkci random.normal v knihovně numpy\n",
        "# tato funkce bere 3 argumenty základní hodnotu, směrodatnou odchylku a počet hodnot kolik cheme\n",
        "# výsledkem je normálová distribuce hodnot, známá také jako Gaussova křivka\n",
        "x = np.random.normal(170, 10, 250)\n",
        "\n",
        "plt.xlabel(\"Výška [cm]]\")\n",
        "plt.ylabel(\"Počet osob\")\n",
        "plt.title(\"Histogram výšky\")\n",
        "\n",
        "plt.hist(x, bins=10)\n",
        "# argument bins určuje počet sloupců\n",
        "plt.show()"
      ]
    },
    {
      "cell_type": "markdown",
      "metadata": {
        "id": "KPRAHCmKxnYA"
      },
      "source": [
        "# Koláčový graf\n",
        "Pro vytvoření koláčového grafu se používá funkce `pie()`. Tato funkce bere 1 argument a to pole s hodnotami, které se mají vykreslit. Přepočet na poměrné hodnoty se provede automaticky."
      ]
    },
    {
      "cell_type": "code",
      "execution_count": null,
      "metadata": {
        "id": "uSewp6aSxnYA"
      },
      "outputs": [],
      "source": [
        "# v našem případě je součet hodnot 100, abychom na první pohled viděli, jaké jsou poměry\n",
        "y = np.array([35, 25, 25, 15])\n",
        "\n",
        "plt.pie(y)\n",
        "plt.show()"
      ]
    },
    {
      "cell_type": "markdown",
      "metadata": {
        "id": "C8QK4e0hxnYA"
      },
      "source": [
        "V základu se začátek grafu vykreslí na osu x a postupuje proti směru hodinuvých ručiček.\n",
        "\n",
        "Velikost každého bloku je vyhodnocena porovnáním hodnoty se všemi ostatními pomocí tohoto vzorečku: `x/sum(x)`"
      ]
    },
    {
      "cell_type": "markdown",
      "metadata": {
        "id": "IqquyGzqxnYB"
      },
      "source": [
        "## Popisky\n",
        "Bez popisků je koláčový graf těžko čitelný.\n",
        "Popisky se ke každému kusu koláče přidají pomocí argumetu `labels`"
      ]
    },
    {
      "cell_type": "code",
      "execution_count": null,
      "metadata": {
        "id": "SMoyLng0xnYB"
      },
      "outputs": [],
      "source": [
        "y = np.array([35, 25, 25, 15])\n",
        "popisky = [\"Jablko\", \"Banán\", \"Meruňky\", \"Borůvky\"]\n",
        "# popisky musí být pole o stejné délce jako zadávané hodnoty\n",
        "\n",
        "plt.pie(y, labels=popisky)\n",
        "plt.show()"
      ]
    },
    {
      "cell_type": "markdown",
      "metadata": {
        "id": "U8SIBAWNxnYB"
      },
      "source": [
        "## Začínající úhel\n",
        "Jak už bylo zmíněno, tak graf začíná na ose x.\n",
        "\n",
        "Tento začátek se dá upravit pomocí argumentu `startangle`, hodnota tohoto argumetnu nemá žádné omezení, ale nedává smysl používat jiná čísla než v rozsahu 0 až 360"
      ]
    },
    {
      "cell_type": "code",
      "execution_count": null,
      "metadata": {
        "id": "rWioJ9MqxnYB"
      },
      "outputs": [],
      "source": [
        "y = np.array([35, 25, 25, 15])\n",
        "popisky = [\"Jablko\", \"Banán\", \"Meruňky\", \"Borůvky\"]\n",
        "\n",
        "plt.pie(y, labels=popisky, startangle=90)\n",
        "plt.show()"
      ]
    },
    {
      "cell_type": "markdown",
      "metadata": {
        "id": "75gX4Tt7xnYB"
      },
      "source": [
        "## Zvýraznění části grafu\n",
        "K výraznění části grafu se používá argument `explode`, tento argument je pole o stejné délce jako je počet částí grafu.\n",
        "\n",
        "Každá hodnota tohoto pole je hodnota o kolik má daná část grafu \"vystoupit\"."
      ]
    },
    {
      "cell_type": "code",
      "execution_count": null,
      "metadata": {
        "id": "bLeJnaw7xnYB"
      },
      "outputs": [],
      "source": [
        "y = np.array([35, 25, 25, 15])\n",
        "popisky = [\"Jablko\", \"Banán\", \"Meruňky\", \"Borůvky\"]\n",
        "zvyrazneni = [0.2, 0, 0, 0]\n",
        "\n",
        "plt.pie(y, labels=popisky, explode=zvyrazneni)\n",
        "plt.show()"
      ]
    },
    {
      "cell_type": "markdown",
      "metadata": {
        "id": "apuMLiKdxnYC"
      },
      "source": [
        "## Stín\n",
        "Stín se nastavuje na celý graf zároveň pomocí argumetu `shadow`, je to bool hodnota."
      ]
    },
    {
      "cell_type": "code",
      "execution_count": null,
      "metadata": {
        "id": "C_aS9vvgxnYC"
      },
      "outputs": [],
      "source": [
        "y = np.array([35, 25, 25, 15])\n",
        "popisky = [\"Jablko\", \"Banán\", \"Meruňky\", \"Borůvky\"]\n",
        "zvyrazneni = [0.2, 0, 0, 0]\n",
        "\n",
        "plt.pie(y, labels=popisky, explode=zvyrazneni, shadow=True)\n",
        "plt.show()"
      ]
    },
    {
      "cell_type": "markdown",
      "metadata": {
        "id": "qgLKFrbexnYC"
      },
      "source": [
        "## Barvy\n",
        "Barvy se specifikují pomocí argumetu `colors`. Tento argument je pole o stejné délce jako je počet částí grafu. Každá hodnota tohoto pole je barva dané části grafu. Barvy se dají specifikovat stejně jako u sloupcového grafu."
      ]
    },
    {
      "cell_type": "code",
      "execution_count": null,
      "metadata": {
        "id": "-9KmThP5xnYC"
      },
      "outputs": [],
      "source": [
        "y = np.array([35, 25, 25, 15])\n",
        "popisky = [\"Jablko\", \"Banán\", \"Meruňky\", \"Borůvky\"]\n",
        "barvy = [\"black\", \"hotpink\", \"b\", \"#4CAF50\"]\n",
        "\n",
        "plt.pie(y, labels=popisky, colors=barvy)\n",
        "plt.show()"
      ]
    },
    {
      "cell_type": "markdown",
      "metadata": {
        "id": "GoiQ0_ahxnYD"
      },
      "source": [
        "## Legenda\n",
        "Pro zobrazení legendy se pužívá funkce `legend()`. Abychom byli schopni zobrazit legendu, musíme mít nastaveny také `labels`.\n",
        "Legenda se dá použít i u jiných typů grafů."
      ]
    },
    {
      "cell_type": "code",
      "execution_count": null,
      "metadata": {
        "id": "R8DQDz-7xnYD"
      },
      "outputs": [],
      "source": [
        "y = np.array([35, 25, 25, 15])\n",
        "popisky = [\"Jablko\", \"Banán\", \"Meruňky\", \"Borůvky\"]\n",
        "\n",
        "plt.pie(y, labels=popisky)\n",
        "plt.legend()\n",
        "plt.show()"
      ]
    },
    {
      "cell_type": "markdown",
      "metadata": {
        "id": "OIFbS3TcxnYD"
      },
      "source": [
        "### Nadpis legendy\n",
        "Pro nadpis legendy se používá atribut `tittle` ve funkci `legend()`"
      ]
    },
    {
      "cell_type": "code",
      "execution_count": null,
      "metadata": {
        "id": "FVW0STQIxnYD"
      },
      "outputs": [],
      "source": [
        "y = np.array([35, 25, 25, 15])\n",
        "popisky = [\"Jablko\", \"Banán\", \"Meruňky\", \"Borůvky\"]\n",
        "\n",
        "plt.pie(y, labels = popisky)\n",
        "plt.legend(title=\"Ovoce:\")\n",
        "plt.show()"
      ]
    },
    {
      "cell_type": "markdown",
      "metadata": {
        "id": "WlZomOETxnYE"
      },
      "source": [
        "# Cvičení\n",
        "Zde bude následovat série úkolů, díky kterým si můžete ověřit, zda jste látku pochopili.\n",
        "\n",
        "## Cvičení 1\n",
        "Vytvořte graf, který bude identický s grafem níže.\n",
        "\n",
        "![Output](https://github.com/drillby/for_students/blob/main/MatPlotLib_zadani/imgs/druhy_grafu_1.png?raw=1)"
      ]
    },
    {
      "cell_type": "code",
      "execution_count": null,
      "metadata": {
        "id": "PvStVr_SxnYE"
      },
      "outputs": [],
      "source": [
        "kategorie = ['Kategorie 1', 'Kategorie 2', 'Kategorie 3', 'Kategorie 4']\n",
        "hodnoty_horizontalni = [15, 24, 12, 8]\n",
        "hodnoty_vertikalni = [7, 12, 18, 5]\n",
        "\n",
        "# TODO: Zde doplňte kód pro vykreslení grafu\n",
        "\n",
        "# ===== Začátek řešení =========\n",
        "\n",
        "# ===== Konec řešení =========="
      ]
    },
    {
      "cell_type": "markdown",
      "metadata": {
        "id": "jnjkon-VxnYE"
      },
      "source": [
        "## Cvičení 2\n",
        "Vytvořte graf, který bude identický s grafem níže.\n",
        "\n",
        "![Output](https://github.com/drillby/for_students/blob/main/MatPlotLib_zadani/imgs/druhy_grafu_2.png?raw=1)"
      ]
    },
    {
      "cell_type": "code",
      "execution_count": null,
      "metadata": {
        "id": "uCjPzSO1xnYE"
      },
      "outputs": [],
      "source": [
        "data = np.random.randn(1000)\n",
        "\n",
        "# TODO: Zde doplňte kód pro vykreslení grafu\n",
        "\n",
        "# ===== Začátek řešení =========\n",
        "\n",
        "# ===== Konec řešení =========="
      ]
    },
    {
      "cell_type": "markdown",
      "metadata": {
        "id": "VJHk_6y7xnYF"
      },
      "source": [
        "## Cvičení 3\n",
        "Vytvořte graf, který bude identický s grafem níže.\n",
        "\n",
        "![Output](https://github.com/drillby/for_students/blob/main/MatPlotLib_zadani/imgs/druhy_grafu_3.png?raw=1)"
      ]
    },
    {
      "cell_type": "code",
      "execution_count": null,
      "metadata": {
        "id": "bZ6vEEMOxnYG"
      },
      "outputs": [],
      "source": [
        "hodnoty = [35, 25, 25, 15]\n",
        "# TODO: Zde doplňte kód pro vykreslení grafu\n",
        "\n",
        "# ===== Začátek řešení =========\n",
        "\n",
        "# ===== Konec řešení =========="
      ]
    }
  ],
  "metadata": {
    "colab": {
      "provenance": [],
      "include_colab_link": true
    },
    "kernelspec": {
      "display_name": "Python 3",
      "language": "python",
      "name": "python3"
    },
    "language_info": {
      "codemirror_mode": {
        "name": "ipython",
        "version": 3
      },
      "file_extension": ".py",
      "mimetype": "text/x-python",
      "name": "python",
      "nbconvert_exporter": "python",
      "pygments_lexer": "ipython3",
      "version": "3.10.6"
    },
    "orig_nbformat": 4
  },
  "nbformat": 4,
  "nbformat_minor": 0
}