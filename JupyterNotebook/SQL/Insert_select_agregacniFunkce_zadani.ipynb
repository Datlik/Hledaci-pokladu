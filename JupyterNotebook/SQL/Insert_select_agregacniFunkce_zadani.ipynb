{
  "nbformat": 4,
  "nbformat_minor": 0,
  "metadata": {
    "interpreter": {
      "hash": "844666d065970604720619e9beaf7cae1bffaee307c095d8082add94b805615d"
    },
    "kernelspec": {
      "display_name": "Python 3.9.6 64-bit (system)",
      "name": "python3"
    },
    "language_info": {
      "codemirror_mode": {
        "name": "ipython",
        "version": 3
      },
      "file_extension": ".py",
      "mimetype": "text/x-python",
      "name": "python",
      "nbconvert_exporter": "python",
      "pygments_lexer": "ipython3",
      "version": "3.9.6"
    },
    "orig_nbformat": 4,
    "colab": {
      "name": "Insert_select_agregacniFunkce_zadani.ipynb",
      "provenance": [],
      "include_colab_link": true
    }
  },
  "cells": [
    {
      "cell_type": "markdown",
      "metadata": {
        "id": "view-in-github",
        "colab_type": "text"
      },
      "source": [
        "<a href=\"https://colab.research.google.com/github/Datlik/Hledaci-pokladu/blob/main/JupyterNotebook/SQL/Insert_select_agregacniFunkce_zadani.ipynb\" target=\"_parent\"><img src=\"https://colab.research.google.com/assets/colab-badge.svg\" alt=\"Open In Colab\"/></a>"
      ]
    },
    {
      "cell_type": "markdown",
      "metadata": {
        "id": "fU2iwqb5-lXy"
      },
      "source": [
        "# INSERT, SELECT, agregační funkce\n",
        "\n",
        "## Insert\n",
        "Nyní když už umíme vytvořit databáze, musíme do nich také umět zapisovat.\n",
        "Takový zápis se provede pomocí klíčového slova INSERT.\n",
        "Abychom mohli zapisovat do databáze musíme být připojeni, to se provede následovně."
      ]
    },
    {
      "cell_type": "markdown",
      "metadata": {
        "id": "frvQWCC1-lY5"
      },
      "source": [
        "Jako první si musíme nainstalovat knihovnu mysql-connector"
      ]
    },
    {
      "cell_type": "code",
      "metadata": {
        "colab": {
          "base_uri": "https://localhost:8080/"
        },
        "id": "Y1F5pW44-lZE",
        "outputId": "eb421f0b-4e23-417b-b51a-f6f0887cb593"
      },
      "source": [
        "! pip install mysql-connector"
      ],
      "execution_count": 1,
      "outputs": [
        {
          "output_type": "stream",
          "name": "stdout",
          "text": [
            "Collecting mysql-connector\n",
            "  Downloading mysql-connector-2.2.9.tar.gz (11.9 MB)\n",
            "\u001b[2K     \u001b[90m━━━━━━━━━━━━━━━━━━━━━━━━━━━━━━━━━━━━━━━━\u001b[0m \u001b[32m11.9/11.9 MB\u001b[0m \u001b[31m7.0 MB/s\u001b[0m eta \u001b[36m0:00:00\u001b[0m\n",
            "\u001b[?25h  Preparing metadata (setup.py) ... \u001b[?25l\u001b[?25hdone\n",
            "Building wheels for collected packages: mysql-connector\n",
            "  Building wheel for mysql-connector (setup.py) ... \u001b[?25l\u001b[?25hdone\n",
            "  Created wheel for mysql-connector: filename=mysql_connector-2.2.9-cp311-cp311-linux_x86_64.whl size=247949 sha256=8ec8394ff5a86774b696736fe81fa19bfa6fe205a497e2e457bd723763840581\n",
            "  Stored in directory: /root/.cache/pip/wheels/17/cd/ed/2d49e9bac69cf09382e4c7cc20a2511202b48324b87db26019\n",
            "Successfully built mysql-connector\n",
            "Installing collected packages: mysql-connector\n",
            "Successfully installed mysql-connector-2.2.9\n"
          ]
        }
      ]
    },
    {
      "cell_type": "markdown",
      "metadata": {
        "id": "hsLXg5Qe-lZU"
      },
      "source": [
        "Poté se musíme připojit do databáze a vytvořit tabulku.\n",
        "Budeme vytvářet tabulku Auto s náledujícími atriuty:\n",
        "* id int\n",
        "* spz text\n",
        "* pocet_sedadel int\n",
        "* max_rychlost int\n",
        "* nosnost int\n",
        "* nutna_kvalifikace text\n",
        "* datum_vyroby date\n",
        "Prozatím atributům nebudeme přiřazovat žádné specialní vlastnosti."
      ]
    },
    {
      "cell_type": "markdown",
      "metadata": {
        "id": "WDfv2NFd-lZX"
      },
      "source": [
        "Kód pro vytvoření takové tabulky bude vypadat takto"
      ]
    },
    {
      "cell_type": "code",
      "metadata": {
        "id": "lfI7ZZ5O-lZe"
      },
      "source": [
        "import mysql.connector\n",
        "\n",
        "mydb = mysql.connector.connect(\n",
        "    host = \"dbs.spskladno.cz\"\n",
        "    ,user = \"student9\"\n",
        "    ,password = \"spsnet\"\n",
        "    ,database = \"vyuka9\"\n",
        ")\n",
        "\n",
        "mycursor = mydb.cursor()\n",
        "\n",
        "mycursor.execute(\"\"\"CREATE TABLE Automobil(\n",
        "    id int,\n",
        "    spz text,\n",
        "    pocet_sedadel int,\n",
        "    max_rychlost int,\n",
        "    nosnost int,\n",
        "    nutna_kvalifikace text,\n",
        "    datum_vyroby date\n",
        ")\"\"\") # do \"\"\"\"\"\" se zadává samotný SQL požadavek\n",
        "# příkaz execute si můžeme představit jako napsání SQL požadavku do phpMyAdmin\n",
        "\n",
        "mydb.commit() # tento příkaz si můžeme představit jako stisknutí Enteru\n",
        "\n",
        "mycursor.close()\n",
        "mydb.close()\n",
        "# tyto poslední 2 příkazy nás odpojí od databáze"
      ],
      "execution_count": null,
      "outputs": []
    },
    {
      "cell_type": "markdown",
      "metadata": {
        "id": "NUJvhqsY-lZk"
      },
      "source": [
        "Nyní, abychom mohli do databáze zapisovat, musíme se znovu přihlásit (případně se předtím neodhlašovat...) a použít příkaz INSERT"
      ]
    },
    {
      "cell_type": "markdown",
      "metadata": {
        "id": "L5KsdsYo-lZn"
      },
      "source": [
        "### Syntaxe INSERT\n",
        "Abychom úspěšně zapsali do databáze musíme příkaz INSERT zapsat násedujícím způsobem (rozdělení na řádky je pouze pro přehlednost - celý dotaz může být zapsán v jednom řádku):\n",
        "<pre>\n",
        "INSERT INTO nazevTabulky (atribut_1, atribut_2, atribut_3) VALUES\n",
        "    \n",
        "(hodnota_1, hodnota_2, hodnota_3),\n",
        "    \n",
        "(hodnota_1, hodnota_2, hodnota_3),\n",
        "    \n",
        "(hodnota_1, hodnota_2, hodnota_3);\n",
        "</pre>\n",
        "* Každý řádek hodnot odpovídá jednomu novému záznamu (řádku) v tabulce\n",
        "* Je nutné dodržet datové typy a všechny nastavené vlastnosti. Např.: text musí být v uvozovkách"
      ]
    },
    {
      "cell_type": "code",
      "metadata": {
        "id": "98W7q7yB-lZr"
      },
      "source": [
        "import mysql.connector\n",
        "\n",
        "mydb = mysql.connector.connect(\n",
        "     host = \"dbs.spskladno.cz\"\n",
        "    ,user = \"student9\"\n",
        "    ,password = \"spsnet\"\n",
        "    ,database = \"vyuka9\"\n",
        ")\n",
        "mycursor = mydb.cursor()\n",
        "\n",
        "mycursor.execute(\"\"\"INSERT INTO Automobil\n",
        "(id, spz, pocet_sedadel, max_rychlost, nosnost,  nutna_kvalifikace, datum_vyroby) VALUES\n",
        "(1, '1A1111', 4, 190, 3, 'B',  '2000-09-09'),\n",
        "(2, '2B2222', 2, 220, 2, 'B',  '2020-01-01');\n",
        "\"\"\") # do \"\"\"\"\"\" se zadává samotný SQL požadavek\n",
        "# příkaz execute si můžeme představit jako napsání SQL požadavku do phpMyAdmin\n",
        "# ! pokud zapisujeme text, tak ho musíme dát do jiných uvozovek,\n",
        "# ! než ve kterých je uvozen celý příkaz\n",
        "\n",
        "mydb.commit() # tento příkaz si můžeme představit jako stisknutí Enteru\n",
        "\n",
        "# tyto poslední 2 příkazy nás odpojí od databáze\n",
        "mycursor.close()\n",
        "mydb.close()"
      ],
      "execution_count": null,
      "outputs": []
    },
    {
      "cell_type": "markdown",
      "metadata": {
        "id": "jEaH8fYm-lZv"
      },
      "source": [
        "## SELECT\n",
        "Druhou důležitou funkcí databáze je možnost data číst.\n",
        "To se provádí pomocí klíčového slova SELECT.\n",
        "\n",
        "### Syntaxe SELECT\n",
        "Abychom úspěšně získali data z databáze musíme příkaz SELECT zapsat násedujícím způsobem:\n",
        "\n",
        "<pre>\n",
        "SELECT * FROM nazevTabulky; /*Tento příkaz vypíše uplně všechny atributy (sloupečky) a záznamy (řádky) z tabulky.*/\n",
        "</pre>\n",
        "Získávání dat můžeme omezit pouze na některé atributy (sloupečky) následujícím způsobem:\n",
        "\n",
        "<pre> SELECT atribut_1, atribut_2 FROM nazevTabulky; <pre>\n",
        "\n",
        "V samotném SQL můžeme při výpisu pozměnit název atributu, zvýší se tím přehlednost:\n",
        "\n",
        "<pre> SELECT atribut_1 AS \"NovyNazev1\", atribut_2 AS \"NovyNazev2\" FROM Tym; </pre>\n",
        "\n"
      ]
    },
    {
      "cell_type": "code",
      "metadata": {
        "id": "C9PMtAJH-lZx"
      },
      "source": [
        "import mysql.connector\n",
        "\n",
        "mydb = mysql.connector.connect(\n",
        "     host = \"dbs.spskladno.cz\"\n",
        "    ,user = \"student9\"\n",
        "    ,password = \"spsnet\"\n",
        "    ,database = \"vyuka9\"\n",
        ")\n",
        "mycursor = mydb.cursor()\n",
        "\n",
        "mycursor.execute(\"\"\"SELECT * FROM Automobil\n",
        "\"\"\") # do \"\"\"\"\"\" se zadává samotný SQL požadavek\n",
        "# příkaz execute si můžeme představit jako napsání SQL požadavku do phpMyAdmin\n",
        "# Tento SQL dotaz nám vrátí všechny hodnoty zapsané v tabulce Automobil\n",
        "\n",
        "# narozdíl od INSERTu nemusíme SELECT commitovat, protože do tabulky nic neukládáme\n",
        "\n",
        "myresult = mycursor.fetchall() # tento příkaz nám uloží do všechny hodnoty do myresult\n",
        "\n",
        "# nyní klidně můžeme vypsat data, ale nebudou vypsána přehledně\n",
        "# takový výpis vypadá takto\n",
        "# print(myresult)\n",
        "\n",
        "# toto je však mnohem přehlednější výpis\n",
        "for index, spz, pocet_sedadel, max_rychlost, nosnost, nutna_kvalifikace, datum_vyroby in myresult:\n",
        "# do for cyklu musíme vypsat tolik proměnných kolik je atributů, které po SQL chceme,\n",
        "# kdyby jich bylo míň/víc Python nám vyhodí chybu\n",
        "    print(f\"\"\"\n",
        "    Auto s ID {index}, SPZ {spz}, počtem sedadel {pocet_sedadel},\n",
        "    maximální rychlostí {max_rychlost}, nosností {nosnost},\n",
        "    nutná kvalifikace pro řízení {nutna_kvalifikace}, vyrobeno {datum_vyroby}\n",
        "    \"\"\")\n",
        "\n",
        "mycursor.close()\n",
        "mydb.close()\n",
        "# tyto poslední 2 příkazy nás odpojí od databáze"
      ],
      "execution_count": null,
      "outputs": []
    },
    {
      "cell_type": "markdown",
      "metadata": {
        "id": "MS5JWu9Z-lZ7"
      },
      "source": [
        "## Agregační fukce\n",
        "Agregační funkce lze také pochopit jako seskupovací funkce. To jak tyto fukce fungují má na starosti SŘBD. Tyto funkce se používají spolu se SELECTem.\n",
        "\n",
        "Nejčastější agregační funkce:\n",
        "* AVG()\t- Aritmetický průměr\n",
        "* SUM()\t- Součet\n",
        "* COUNT() - Počet zapsaných hodnot v daném atributu\n",
        "* MIN()\t- Minimum\n",
        "* MAX()\t- Maximum\n",
        "\n",
        "### Syntaxe agrefačních funkcí\n",
        "AVG() -\n",
        "\n",
        "    SELECT AVG(atribut) FROM nazevTabulky;\n",
        "\n",
        "\n",
        "SUM() -\n",
        "\n",
        "    SELECT SUM(atribut) FROM nazevTabulky;\n",
        "\n",
        "\n",
        "COUNT()-\n",
        "\n",
        "    SELECT COUNT(atribut) FROM nazevTabulky;\n",
        "\n",
        "\n",
        "MIN()-\n",
        "\n",
        "    SELECT MIN(atribut) FROM nazevTabulky;\n",
        "\n",
        "\n",
        "MAX()-\n",
        "\n",
        "    SELECT MAX(atribut) FROM nazevTabulky;\n",
        "\n",
        "V Pythonu agregační funkce vypadají takto:\n"
      ]
    },
    {
      "cell_type": "code",
      "metadata": {
        "id": "om6rIdQ7-lZ8"
      },
      "source": [
        "import mysql.connector\n",
        "\n",
        "mydb = mysql.connector.connect(\n",
        " host = \"dbs.spskladno.cz\"\n",
        "    ,user = \"student9\"\n",
        "    ,password = \"spsnet\"\n",
        "    ,database = \"vyuka9\"\n",
        ")\n",
        "mycursor = mydb.cursor()\n",
        "\n",
        "mycursor.execute(\"\"\"SELECT AVG(max_rychlost) FROM Automobil\"\"\")\n",
        "# mycursor.execute(\"\"\"SELECT SUM(max_rychlost) FROM Automobil\"\"\")\n",
        "# mycursor.execute(\"\"\"SELECT COUNT(max_rychlost) FROM Automobil\"\"\")\n",
        "# mycursor.execute(\"\"\"SELECT MIN(max_rychlost) FROM Automobil\"\"\")\n",
        "# mycursor.execute(\"\"\"SELECT MAX(max_rychlost) FROM Automobil\"\"\")\n",
        "\n",
        "myresult = mycursor.fetchall() # tento příkaz nám stáhne všechny hodnoty do myresult\n",
        "\n",
        "# nyní klidně můžeme vypsat data, ale nebudou vypsána přehledně\n",
        "# takový výpis vypadá takto\n",
        "# print(myresult)\n",
        "\n",
        "# toto je však mnohem přehlednější výpis\n",
        "for vysledek in myresult:\n",
        "# do for cyklu musíme vypsat tolik proměnných kolik je atributů, které po SQL chceme,\n",
        "# kdyby jich bylo míň/víc Python nám vyhodí chybu\n",
        "    print(vysledek)\n",
        "\n",
        "mycursor.close()\n",
        "mydb.close()\n",
        "# tyto poslední 2 příkazy nás odpojí od databáze"
      ],
      "execution_count": null,
      "outputs": []
    },
    {
      "cell_type": "markdown",
      "metadata": {
        "id": "jG-1Vry6-laC"
      },
      "source": [
        "# Cvičení\n",
        "Bude následovat pár cvičení na procvičení tohoto tématu.\n",
        "\n",
        "## Cvičení 1 -\n",
        "Připojte se do školní databáze a doplňte kód pro zapsání do databáze.\n",
        "\n",
        "Do databáze zapište alespoň jeden řádek"
      ]
    },
    {
      "cell_type": "code",
      "metadata": {
        "id": "sRb56R-P-laE",
        "outputId": "5ecfd8e7-250f-41c4-f68a-ffe0285b8adf",
        "colab": {
          "base_uri": "https://localhost:8080/"
        }
      },
      "source": [
        "import mysql.connector\n",
        "\n",
        "mydb = mysql.connector.connect(\n",
        "    host = \"dbs.spskladno.cz\",\n",
        "    user = \"student9\",\n",
        "    password = \"spsnet\",\n",
        "    database = \"vyuka9\"\n",
        ")\n",
        "mycursor = mydb.cursor()\n",
        "\n",
        "\n",
        "mycursor.execute(\"\"\"CREATE TABLE Mesto(\n",
        "    `index` int AUTO_INCREMENT PRIMARY KEY,\n",
        "    nazev char(20) NOT NULL,\n",
        "    okres char(30) NOT NULL,\n",
        "    kraj char(30) NOT NULL,\n",
        "    pocet_obyvatel int NOT NULL\n",
        ")\"\"\")\n",
        "\n",
        "mydb.commit()\n",
        "\n",
        "try:\n",
        "\n",
        "    sql = \"\"\"INSERT INTO Mesto (nazev, okres, kraj, pocet_obyvatel)\n",
        "             VALUES (%s, %s, %s, %s)\"\"\"\n",
        "    values = (\"Kladno\", \"Kladno\", \"Středočeský\", 70000)\n",
        "\n",
        "    mycursor.execute(sql, values)\n",
        "    mydb.commit()\n",
        "    print(\"Jedna položka byla přidána.\")\n",
        "\n",
        "except mysql.connector.Error as chyba:\n",
        "    print(\"Příkaz byl zadán chybně:\\n\", chyba)\n",
        "    mycursor.execute(\"\"\"DROP TABLE Mesto\"\"\")\n",
        "    mydb.commit()\n",
        "\n",
        "mycursor.close()\n",
        "mydb.close()"
      ],
      "execution_count": 7,
      "outputs": [
        {
          "output_type": "stream",
          "name": "stdout",
          "text": [
            "Jedna položka byla přidána.\n"
          ]
        }
      ]
    },
    {
      "cell_type": "markdown",
      "metadata": {
        "id": "wrfO6Bls-laF"
      },
      "source": [
        "## Cvičení 2 -\n",
        "Z tabulky do které jste ve cvičení 1 zapisovali vypište všechny informace"
      ]
    },
    {
      "cell_type": "code",
      "metadata": {
        "id": "l6fkySUv-laG",
        "outputId": "bdc87b00-549e-4773-cb17-fe1255aea7df",
        "colab": {
          "base_uri": "https://localhost:8080/"
        }
      },
      "source": [
        "import mysql.connector\n",
        "\n",
        "mydb = mysql.connector.connect(\n",
        " host = \"dbs.spskladno.cz\"\n",
        "    ,user = \"student9\"\n",
        "    ,password = \"spsnet\"\n",
        "    ,database = \"vyuka9\"\n",
        ")\n",
        "mycursor = mydb.cursor()\n",
        "\n",
        "mycursor.execute(\"\"\"SELECT * FROM Mesto\n",
        "\"\"\")\n",
        "\n",
        "myresult = mycursor.fetchall()\n",
        "\n",
        "for index, nazev, okres, kraj, pocet_obyvatel in myresult:\n",
        "  print(index, nazev, okres, kraj, pocet_obyvatel)\n",
        "\n",
        "mycursor.close()\n",
        "mydb.close()"
      ],
      "execution_count": 12,
      "outputs": [
        {
          "output_type": "stream",
          "name": "stdout",
          "text": [
            "1 Kladno Kladno Středočeský 70000\n"
          ]
        }
      ]
    },
    {
      "cell_type": "markdown",
      "metadata": {
        "id": "Fal0Ua_d-laT"
      },
      "source": [
        "## Cvičení 3 -\n",
        "Z tabulky Mesto ze cvičení 1 a 2 vypište:\n",
        "* Počet měst\n",
        "* Průměrný počet obyvatel\n",
        "* Minimální počet obyvatel"
      ]
    },
    {
      "cell_type": "code",
      "metadata": {
        "id": "4VJ8_2pg-laV",
        "outputId": "c8c91c49-bbd0-4c71-d53c-e4d5831cf0d7",
        "colab": {
          "base_uri": "https://localhost:8080/"
        }
      },
      "source": [
        "import mysql.connector\n",
        "\n",
        "mydb = mysql.connector.connect(\n",
        "  host = \"dbs.spskladno.cz\"\n",
        "    ,user = \"student9\"\n",
        "    ,password = \"spsnet\"\n",
        "    ,database = \"vyuka9\"\n",
        ")\n",
        "mycursor = mydb.cursor()\n",
        "\n",
        "mycursor.execute(\"\"\"SELECT COUNT(nazev) FROM Mesto\"\"\")\n",
        "myresult = mycursor.fetchall()\n",
        "print(myresult)\n",
        "\n",
        "mycursor.execute(\"\"\"SELECT AVG(pocet_obyvatel) FROM Mesto\"\"\")\n",
        "myresult = mycursor.fetchall()\n",
        "print(myresult)\n",
        "\n",
        "mycursor.execute(\"\"\"SELECT MIN(pocet_obyvatel) FROM Mesto\"\"\")\n",
        "myresult = mycursor.fetchall()\n",
        "print(myresult)\n",
        "\n",
        "mycursor.close()\n",
        "mydb.close()\n"
      ],
      "execution_count": 14,
      "outputs": [
        {
          "output_type": "stream",
          "name": "stdout",
          "text": [
            "[(3,)]\n",
            "[(Decimal('70000.0000'),)]\n",
            "[(70000,)]\n"
          ]
        }
      ]
    }
  ]
}